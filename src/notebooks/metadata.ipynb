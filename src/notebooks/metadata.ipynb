{
 "cells": [
  {
   "cell_type": "code",
   "execution_count": 78,
   "metadata": {},
   "outputs": [
    {
     "data": {
      "application/javascript": [
       "IPython.notebook.set_autosave_interval(0)"
      ]
     },
     "metadata": {},
     "output_type": "display_data"
    },
    {
     "name": "stdout",
     "output_type": "stream",
     "text": [
      "Autosave disabled\n"
     ]
    }
   ],
   "source": [
    "%autosave 0\n",
    "%matplotlib inline"
   ]
  },
  {
   "cell_type": "code",
   "execution_count": 79,
   "metadata": {
    "collapsed": true
   },
   "outputs": [],
   "source": [
    "import codecs\n",
    "import pymarc\n",
    "import sqlite3\n",
    "import yaml\n",
    "from collections import defaultdict\n",
    "import random\n",
    "import tensorflow"
   ]
  },
  {
   "cell_type": "code",
   "execution_count": 80,
   "metadata": {
    "collapsed": true
   },
   "outputs": [],
   "source": [
    "INPUT_MARCXML_FILE = \"/home/app/data/input/metadata/marc21.xml\"\n",
    "MARCXML_PARSER_CONF = \"/home/app/src/config/parsing_conf.yaml\"\n",
    "INPUT_SAMPLE_SIZE = 10"
   ]
  },
  {
   "cell_type": "markdown",
   "metadata": {},
   "source": [
    "### Task 1 - Count number of records"
   ]
  },
  {
   "cell_type": "code",
   "execution_count": 81,
   "metadata": {
    "collapsed": true
   },
   "outputs": [],
   "source": [
    "#Done - in /src/input/metadata/marcxml_parsing"
   ]
  },
  {
   "cell_type": "markdown",
   "metadata": {
    "collapsed": true
   },
   "source": [
    "### Task 2 - Tally frequency of tags"
   ]
  },
  {
   "cell_type": "code",
   "execution_count": 82,
   "metadata": {
    "collapsed": true
   },
   "outputs": [],
   "source": [
    "#Done - in /src/input/metadata/marcxml_parsing"
   ]
  },
  {
   "cell_type": "markdown",
   "metadata": {},
   "source": [
    "### Task 3 - Parse marcxml"
   ]
  },
  {
   "cell_type": "code",
   "execution_count": 83,
   "metadata": {
    "collapsed": true
   },
   "outputs": [],
   "source": [
    "marc_records = pymarc.parse_xml_to_array(INPUT_MARCXML_FILE)\n",
    "try: marc_records = random.sample(marc_records, INPUT_SAMPLE_SIZE)\n",
    "except: pass"
   ]
  },
  {
   "cell_type": "markdown",
   "metadata": {},
   "source": [
    "### Task 4 - Map records to dictionary"
   ]
  },
  {
   "cell_type": "code",
   "execution_count": 114,
   "metadata": {
    "collapsed": true
   },
   "outputs": [],
   "source": [
    "def load_parser_conf(conf_file):\n",
    "    with open(conf_file, \"r\") as stream:\n",
    "        conf = yaml.load(stream)\n",
    "    return conf\n",
    "\n",
    "def get_subfield(marc_field, field, sub_field):\n",
    "    if not sub_field: return marc_field.value() # for leader\n",
    "    else: return marc_field[sub_field]\n",
    "\n",
    "def parse_conf_entry(conf_entry):\n",
    "    (marc_field, dict_field), = conf_entry.items()\n",
    "    try: field, sub_field = marc_field.split(\"$\")\n",
    "    except: field, sub_field = marc_field, None\n",
    "    return(field, sub_field, dict_field)\n",
    "    \n",
    "def map_marc_record(marc_record, conf):\n",
    "    marc_dict = {}\n",
    "    for entry in conf:\n",
    "        field, sub_field, dict_field = parse_conf_entry(entry)\n",
    "        for marc_field in marc_record.get_fields(field):\n",
    "            if field == \"6??\": print(\"subject\")\n",
    "            elif field == \"85*\": print(\"image\")\n",
    "            marc_dict[dict_field] = get_subfield(marc_field, field, sub_field)\n",
    "    return dict(marc_dict)\n",
    "\n",
    "def map_marc_records(marc_records, conf_file):\n",
    "    conf = load_parser_conf(conf_file)\n",
    "    marc_records_tf = map(lambda record: map_marc_record(record, conf), marc_records)\n",
    "    return list(marc_records_tf)\n",
    "\n",
    "marc_dict = map_marc_records(marc_records, MARCXML_PARSER_CONF)"
   ]
  },
  {
   "cell_type": "code",
   "execution_count": 109,
   "metadata": {},
   "outputs": [
    {
     "data": {
      "text/plain": [
       "{'collection_id': '.b34164418',\n",
       " 'date_created': 'ca. 1960.',\n",
       " 'language_code': 'eng',\n",
       " 'leader': '130115q1960    xx                i eng d',\n",
       " 'location_code': 'u-at-we',\n",
       " 'location_division': None,\n",
       " 'location_name': '108 Murray Street (Perth, W.A.)',\n",
       " 'note_general': 'Written on negative: Lotteries Commission.',\n",
       " 'note_public': None,\n",
       " 'note_title': 'Lotteries Commission of Western Australia, 110 Murray Street (left) and C&J Colmer Footwear and the Civil Service Club, 108 Murray Street, Perth (right)',\n",
       " 'note_topical_term': 'Online image.',\n",
       " 'note_url': 'http://purl.slwa.wa.gov.au/slwa_b3416441_1.png',\n",
       " 'physical_details': 'acetate, b&w ;',\n",
       " 'physical_extent': '1 negative :',\n",
       " 'series_title': 'Western Australian images ;',\n",
       " 'series_volume': 'BA1521/350.',\n",
       " 'subject_company_name': 'Civil Service Club'}"
      ]
     },
     "execution_count": 109,
     "metadata": {},
     "output_type": "execute_result"
    }
   ],
   "source": [
    "marc_dict[9]"
   ]
  },
  {
   "cell_type": "code",
   "execution_count": 12,
   "metadata": {},
   "outputs": [
    {
     "ename": "AttributeError",
     "evalue": "'set' object has no attribute 'items'",
     "output_type": "error",
     "traceback": [
      "\u001b[0;31m---------------------------------------------------------------------------\u001b[0m",
      "\u001b[0;31mAttributeError\u001b[0m                            Traceback (most recent call last)",
      "\u001b[0;32m<ipython-input-12-ecb99d7572b5>\u001b[0m in \u001b[0;36m<module>\u001b[0;34m()\u001b[0m\n\u001b[1;32m      6\u001b[0m     \u001b[0;32mreturn\u001b[0m \u001b[0mdict\u001b[0m\u001b[0;34m(\u001b[0m\u001b[0mflipped\u001b[0m\u001b[0;34m)\u001b[0m\u001b[0;34m\u001b[0m\u001b[0m\n\u001b[1;32m      7\u001b[0m \u001b[0;34m\u001b[0m\u001b[0m\n\u001b[0;32m----> 8\u001b[0;31m \u001b[0mlist\u001b[0m\u001b[0;34m(\u001b[0m\u001b[0mmap\u001b[0m\u001b[0;34m(\u001b[0m\u001b[0;32mlambda\u001b[0m \u001b[0mrecord\u001b[0m\u001b[0;34m:\u001b[0m \u001b[0mreverse_nested_dict\u001b[0m\u001b[0;34m(\u001b[0m\u001b[0mrecord\u001b[0m\u001b[0;34m)\u001b[0m\u001b[0;34m,\u001b[0m \u001b[0mmarc_records\u001b[0m\u001b[0;34m)\u001b[0m\u001b[0;34m)\u001b[0m\u001b[0;34m\u001b[0m\u001b[0m\n\u001b[0m",
      "\u001b[0;32m<ipython-input-12-ecb99d7572b5>\u001b[0m in \u001b[0;36m<lambda>\u001b[0;34m(record)\u001b[0m\n\u001b[1;32m      6\u001b[0m     \u001b[0;32mreturn\u001b[0m \u001b[0mdict\u001b[0m\u001b[0;34m(\u001b[0m\u001b[0mflipped\u001b[0m\u001b[0;34m)\u001b[0m\u001b[0;34m\u001b[0m\u001b[0m\n\u001b[1;32m      7\u001b[0m \u001b[0;34m\u001b[0m\u001b[0m\n\u001b[0;32m----> 8\u001b[0;31m \u001b[0mlist\u001b[0m\u001b[0;34m(\u001b[0m\u001b[0mmap\u001b[0m\u001b[0;34m(\u001b[0m\u001b[0;32mlambda\u001b[0m \u001b[0mrecord\u001b[0m\u001b[0;34m:\u001b[0m \u001b[0mreverse_nested_dict\u001b[0m\u001b[0;34m(\u001b[0m\u001b[0mrecord\u001b[0m\u001b[0;34m)\u001b[0m\u001b[0;34m,\u001b[0m \u001b[0mmarc_records\u001b[0m\u001b[0;34m)\u001b[0m\u001b[0;34m)\u001b[0m\u001b[0;34m\u001b[0m\u001b[0m\n\u001b[0m",
      "\u001b[0;32m<ipython-input-12-ecb99d7572b5>\u001b[0m in \u001b[0;36mreverse_nested_dict\u001b[0;34m(original_dict)\u001b[0m\n\u001b[1;32m      2\u001b[0m     \u001b[0mflipped\u001b[0m \u001b[0;34m=\u001b[0m \u001b[0mdefaultdict\u001b[0m\u001b[0;34m(\u001b[0m\u001b[0mdict\u001b[0m\u001b[0;34m)\u001b[0m\u001b[0;34m\u001b[0m\u001b[0m\n\u001b[1;32m      3\u001b[0m     \u001b[0;32mfor\u001b[0m \u001b[0mkey\u001b[0m\u001b[0;34m,\u001b[0m \u001b[0mval\u001b[0m \u001b[0;32min\u001b[0m \u001b[0moriginal_dict\u001b[0m\u001b[0;34m.\u001b[0m\u001b[0mitems\u001b[0m\u001b[0;34m(\u001b[0m\u001b[0;34m)\u001b[0m\u001b[0;34m:\u001b[0m\u001b[0;34m\u001b[0m\u001b[0m\n\u001b[0;32m----> 4\u001b[0;31m         \u001b[0;32mfor\u001b[0m \u001b[0msubkey\u001b[0m\u001b[0;34m,\u001b[0m \u001b[0msubval\u001b[0m \u001b[0;32min\u001b[0m \u001b[0mval\u001b[0m\u001b[0;34m.\u001b[0m\u001b[0mitems\u001b[0m\u001b[0;34m(\u001b[0m\u001b[0;34m)\u001b[0m\u001b[0;34m:\u001b[0m\u001b[0;34m\u001b[0m\u001b[0m\n\u001b[0m\u001b[1;32m      5\u001b[0m             \u001b[0mflipped\u001b[0m\u001b[0;34m[\u001b[0m\u001b[0msubkey\u001b[0m\u001b[0;34m]\u001b[0m\u001b[0;34m[\u001b[0m\u001b[0mkey\u001b[0m\u001b[0;34m]\u001b[0m \u001b[0;34m=\u001b[0m \u001b[0msubval\u001b[0m\u001b[0;34m\u001b[0m\u001b[0m\n\u001b[1;32m      6\u001b[0m     \u001b[0;32mreturn\u001b[0m \u001b[0mdict\u001b[0m\u001b[0;34m(\u001b[0m\u001b[0mflipped\u001b[0m\u001b[0;34m)\u001b[0m\u001b[0;34m\u001b[0m\u001b[0m\n",
      "\u001b[0;31mAttributeError\u001b[0m: 'set' object has no attribute 'items'"
     ]
    }
   ],
   "source": [
    "def reverse_nested_dict(original_dict):\n",
    "    for note_url in original_dict[\"note_url\"]:\n",
    "        image_id = note_url.split(\"/\")[0]\n",
    "\n",
    "list(map(lambda record: reverse_nested_dict(record), marc_records))"
   ]
  },
  {
   "cell_type": "code",
   "execution_count": null,
   "metadata": {
    "collapsed": true
   },
   "outputs": [],
   "source": []
  }
 ],
 "metadata": {
  "kernelspec": {
   "display_name": "Python 3",
   "language": "python",
   "name": "python3"
  },
  "language_info": {
   "codemirror_mode": {
    "name": "ipython",
    "version": 3
   },
   "file_extension": ".py",
   "mimetype": "text/x-python",
   "name": "python",
   "nbconvert_exporter": "python",
   "pygments_lexer": "ipython3",
   "version": "3.5.2"
  }
 },
 "nbformat": 4,
 "nbformat_minor": 2
}
