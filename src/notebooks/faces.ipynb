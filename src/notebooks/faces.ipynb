{
 "cells": [
  {
   "cell_type": "code",
   "execution_count": 53,
   "metadata": {},
   "outputs": [
    {
     "data": {
      "application/javascript": [
       "IPython.notebook.set_autosave_interval(0)"
      ]
     },
     "metadata": {},
     "output_type": "display_data"
    },
    {
     "name": "stdout",
     "output_type": "stream",
     "text": [
      "Autosave disabled\n"
     ]
    }
   ],
   "source": [
    "%autosave 0\n",
    "%matplotlib inline"
   ]
  },
  {
   "cell_type": "code",
   "execution_count": 54,
   "metadata": {
    "collapsed": true
   },
   "outputs": [],
   "source": [
    "import os\n",
    "import errno\n",
    "import shutil\n",
    "from matplotlib import pyplot as plt\n",
    "import numpy as np\n",
    "import cv2\n",
    "import functools\n",
    "import operator\n",
    "import random"
   ]
  },
  {
   "cell_type": "code",
   "execution_count": 55,
   "metadata": {},
   "outputs": [],
   "source": [
    "INPUT_IMAGE_DIR = \"/src/input/JPEG_Convert_Resolution_1024\"\n",
    "FACES_IMAGE_DIR = INPUT_IMAGE_DIR + \"/faces\"\n",
    "OPENCV_DIR = \"/usr/local/share/OpenCV\"\n",
    "OPENCV_FACE_CASCADE = OPENCV_DIR + '/haarcascades/haarcascade_frontalface_default.xml'\n",
    "OPENCV_EYE_CASCADE = OPENCV_DIR + '/haarcascades/haarcascade_eye.xml'\n",
    "RESET_FILES_FLAG = True\n",
    "SHOW_IMAGES_FLAG = False\n",
    "LIST_FILES_FLAG = False\n",
    "INPUT_SAMPLE_SIZE = 100"
   ]
  },
  {
   "cell_type": "code",
   "execution_count": 56,
   "metadata": {
    "collapsed": true
   },
   "outputs": [],
   "source": [
    "def make_directory(directory, clear=RESET_FILES_FLAG):\n",
    "    if clear: shutil.rmtree(directory)\n",
    "    try: os.makedirs(directory)\n",
    "    except OSError as e:\n",
    "        if e.errno != errno.EEXIST: raise\n",
    "\n",
    "def maybe_increment_path(file_path, sep=\"_\"):\n",
    "    file_path_base, file_ext = os.path.splitext(file_path)\n",
    "    increment = 0\n",
    "    while True:\n",
    "        full_file_path = \"%s%s%s%s\" % (file_path_base, sep, increment, file_ext)\n",
    "        if not os.path.exists(full_file_path): return full_file_path\n",
    "        increment += 1\n",
    "\n",
    "def show_image(image):\n",
    "    plt.imshow(img_rgb)\n",
    "    plt.show()"
   ]
  },
  {
   "cell_type": "code",
   "execution_count": 57,
   "metadata": {
    "collapsed": true
   },
   "outputs": [],
   "source": [
    "INPUT_IMAGE_FILES = list(map(lambda x: INPUT_IMAGE_DIR + \"/\" + x, os.listdir(INPUT_IMAGE_DIR)))\n",
    "make_directory(FACES_IMAGE_DIR)"
   ]
  },
  {
   "cell_type": "code",
   "execution_count": 58,
   "metadata": {},
   "outputs": [],
   "source": [
    "#Temporary Variables - for testing\n",
    "TEST_IMAGE_SHORT = \"slwa_b1851997_5_master.jpg\"\n",
    "TEST_IMAGE_FULL = INPUT_IMAGE_DIR + \"/\" + TEST_IMAGE_SHORT\n",
    "\n",
    "try: INPUT_IMAGE_FILES_SAMPLE = random.sample(INPUT_IMAGE_FILES, INPUT_SAMPLE_SIZE)\n",
    "except: pass\n",
    "if LIST_FILES_FLAG: print(INPUT_IMAGE_FILES_SAMPLE)"
   ]
  },
  {
   "cell_type": "code",
   "execution_count": 59,
   "metadata": {},
   "outputs": [],
   "source": [
    "def save_face(image_file, face):\n",
    "    face_file = image_file.replace(INPUT_IMAGE_DIR, FACES_IMAGE_DIR)\n",
    "    face_file = maybe_increment_path(face_file)\n",
    "    cv2.imwrite(face_file, face)\n",
    "\n",
    "def find_faces(image_file, show=SHOW_IMAGES_FLAG):\n",
    "    img_bgr = cv2.imread(image_file) #Loads into BGR color space by default\n",
    "    img_rgb = cv2.cvtColor(img_bgr, cv2.COLOR_BGR2RGB) #convert img to RGB \n",
    "    img_gray = cv2.cvtColor(img_rgb, cv2.COLOR_RGB2GRAY) #Converts into grayscale for face detection\n",
    "    img_gray_eq = cv2.equalizeHist(img_gray) #Normalizes histogram of contrast\n",
    "    \n",
    "    face_cascade = cv2.CascadeClassifier(OPENCV_FACE_CASCADE)\n",
    "    faces = face_cascade.detectMultiScale(img_gray_eq, scaleFactor=1.2, minNeighbors=5, minSize=(30,30))\n",
    "    for (x,y,w,h) in faces:\n",
    "        save_face(image_file, img_bgr[y:(y+h), x:(x+w)])\n",
    "        if show: cv2.rectangle(img_rgb,(x,y),(x+w,y+h),(255,0,0),2)\n",
    "    \n",
    "    if show: show_image(img_rgb)\n",
    "\n",
    "    return faces\n",
    "\n",
    "faces = [find_faces(image_file) for image_file in INPUT_IMAGE_FILES_SAMPLE]\n",
    "if LIST_FILES_FLAG: print(os.listdir(FACES_IMAGE_DIR))"
   ]
  },
  {
   "cell_type": "code",
   "execution_count": null,
   "metadata": {
    "collapsed": true
   },
   "outputs": [],
   "source": []
  }
 ],
 "metadata": {
  "kernelspec": {
   "display_name": "Python 3",
   "language": "python",
   "name": "python3"
  },
  "language_info": {
   "codemirror_mode": {
    "name": "ipython",
    "version": 3
   },
   "file_extension": ".py",
   "mimetype": "text/x-python",
   "name": "python",
   "nbconvert_exporter": "python",
   "pygments_lexer": "ipython3",
   "version": "3.5.2"
  }
 },
 "nbformat": 4,
 "nbformat_minor": 2
}
