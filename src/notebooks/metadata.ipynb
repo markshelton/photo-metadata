{
 "cells": [
  {
   "cell_type": "code",
   "execution_count": 2,
   "metadata": {},
   "outputs": [
    {
     "data": {
      "application/javascript": [
       "IPython.notebook.set_autosave_interval(0)"
      ]
     },
     "metadata": {},
     "output_type": "display_data"
    },
    {
     "name": "stdout",
     "output_type": "stream",
     "text": [
      "Autosave disabled\n"
     ]
    }
   ],
   "source": [
    "%autosave 0\n",
    "%matplotlib inline"
   ]
  },
  {
   "cell_type": "code",
   "execution_count": 3,
   "metadata": {
    "collapsed": true
   },
   "outputs": [],
   "source": [
    "import codecs\n",
    "import pymarc\n",
    "import sqlite3"
   ]
  },
  {
   "cell_type": "code",
   "execution_count": 4,
   "metadata": {
    "collapsed": true
   },
   "outputs": [],
   "source": [
    "INPUT_MARCXML_FILE = \"/src/input/metadata/Perth images dataset (MARC21).xml\""
   ]
  },
  {
   "cell_type": "code",
   "execution_count": 16,
   "metadata": {},
   "outputs": [],
   "source": [
    "class Loader:\n",
    "    \n",
    "    def __init__(self, uri):\n",
    "        self.db = sqlite3.connect(uri)\n",
    "\n",
    "    def load_xml(self, xml_file):\n",
    "        handler = DatabaseHandler()\n",
    "        pymarc.parse_xml(xml_file, handler)\n",
    "        self.db.commit()\n",
    "\n",
    "    def load_marc(self, marc_file):\n",
    "        handler = DatabaseHandler()\n",
    "        for record in pymarc.MARCReader(file(marc_file)):\n",
    "            handler.process_record(record)\n",
    "        self.db.commit()"
   ]
  },
  {
   "cell_type": "code",
   "execution_count": 18,
   "metadata": {},
   "outputs": [
    {
     "ename": "NameError",
     "evalue": "name 'Record' is not defined",
     "output_type": "error",
     "traceback": [
      "\u001b[0;31m---------------------------------------------------------------------------\u001b[0m",
      "\u001b[0;31mNameError\u001b[0m                                 Traceback (most recent call last)",
      "\u001b[0;32m<ipython-input-18-619f9fc13888>\u001b[0m in \u001b[0;36m<module>\u001b[0;34m()\u001b[0m\n\u001b[0;32m----> 1\u001b[0;31m \u001b[0;32mclass\u001b[0m \u001b[0mDatabaseHandler\u001b[0m\u001b[0;34m(\u001b[0m\u001b[0mpymarc\u001b[0m\u001b[0;34m.\u001b[0m\u001b[0mXmlHandler\u001b[0m\u001b[0;34m)\u001b[0m\u001b[0;34m:\u001b[0m\u001b[0;34m\u001b[0m\u001b[0m\n\u001b[0m\u001b[1;32m      2\u001b[0m \u001b[0;34m\u001b[0m\u001b[0m\n\u001b[1;32m      3\u001b[0m     \u001b[0;32mdef\u001b[0m \u001b[0m__init__\u001b[0m\u001b[0;34m(\u001b[0m\u001b[0mself\u001b[0m\u001b[0;34m)\u001b[0m\u001b[0;34m:\u001b[0m\u001b[0;34m\u001b[0m\u001b[0m\n\u001b[1;32m      4\u001b[0m         \u001b[0mself\u001b[0m\u001b[0;34m.\u001b[0m\u001b[0m_record_count\u001b[0m \u001b[0;34m=\u001b[0m \u001b[0;36m0\u001b[0m\u001b[0;34m\u001b[0m\u001b[0m\n\u001b[1;32m      5\u001b[0m \u001b[0;34m\u001b[0m\u001b[0m\n",
      "\u001b[0;32m<ipython-input-18-619f9fc13888>\u001b[0m in \u001b[0;36mDatabaseHandler\u001b[0;34m()\u001b[0m\n\u001b[1;32m      8\u001b[0m         \u001b[0mprint\u001b[0m\u001b[0;34m(\u001b[0m\u001b[0mself\u001b[0m\u001b[0;34m.\u001b[0m\u001b[0m_record_count\u001b[0m\u001b[0;34m)\u001b[0m\u001b[0;34m\u001b[0m\u001b[0m\n\u001b[1;32m      9\u001b[0m \u001b[0;34m\u001b[0m\u001b[0m\n\u001b[0;32m---> 10\u001b[0;31m     \u001b[0mr\u001b[0m \u001b[0;34m=\u001b[0m \u001b[0mRecord\u001b[0m\u001b[0;34m(\u001b[0m\u001b[0;34m)\u001b[0m\u001b[0;34m\u001b[0m\u001b[0m\n\u001b[0m\u001b[1;32m     11\u001b[0m     \u001b[0mr\u001b[0m\u001b[0;34m.\u001b[0m\u001b[0mleader\u001b[0m \u001b[0;34m=\u001b[0m \u001b[0mmarc_record\u001b[0m\u001b[0;34m.\u001b[0m\u001b[0mleader\u001b[0m\u001b[0;34m\u001b[0m\u001b[0m\n\u001b[1;32m     12\u001b[0m     \u001b[0mfield_position\u001b[0m \u001b[0;34m=\u001b[0m \u001b[0;34m-\u001b[0m\u001b[0;36m1\u001b[0m\u001b[0;34m\u001b[0m\u001b[0m\n",
      "\u001b[0;31mNameError\u001b[0m: name 'Record' is not defined"
     ]
    }
   ],
   "source": [
    "class DatabaseHandler(pymarc.XmlHandler):\n",
    "    \n",
    "    def __init__(self):\n",
    "        self._record_count = 0\n",
    "        \n",
    "    def process_record(self, marc_record):\n",
    "        self._record_count += 1\n",
    "        print(self._record_count)\n",
    "\n",
    "    r = Record()\n",
    "    r.leader = marc_record.leader\n",
    "    field_position = -1\n",
    "    for marc_field in marc_record:\n",
    "        field_position += 1\n",
    "    if marc_field.is_control_field():\n",
    "        f = ControlField()\n",
    "        f.tag = marc_field.tag\n",
    "        f.value = marc_field.data\n",
    "        f.position = field_position\n",
    "        r.control_fields.append(f)\n",
    "    else:\n",
    "        f = DataField()\n",
    "        f.tag = marc_field.tag\n",
    "        f.indicator1 = marc_field.indicators[0]\n",
    "        f.indicator2 = marc_field.indicators[1]\n",
    "        f.position = field_position\n",
    "        subfield_position = -1\n",
    "    for marc_subfield in marc_field:\n",
    "        subfield_position += 1\n",
    "        sf = Subfield()\n",
    "        sf.code=marc_subfield[0]\n",
    "        sf.value=marc_subfield[1]\n",
    "        sf.position = subfield_position\n",
    "        f.subfields.append(sf)\n",
    "    r.data_fields.append(f)"
   ]
  },
  {
   "cell_type": "code",
   "execution_count": null,
   "metadata": {
    "collapsed": true
   },
   "outputs": [],
   "source": []
  }
 ],
 "metadata": {
  "kernelspec": {
   "display_name": "Python 3",
   "language": "python",
   "name": "python3"
  },
  "language_info": {
   "codemirror_mode": {
    "name": "ipython",
    "version": 3
   },
   "file_extension": ".py",
   "mimetype": "text/x-python",
   "name": "python",
   "nbconvert_exporter": "python",
   "pygments_lexer": "ipython3",
   "version": "3.5.2"
  }
 },
 "nbformat": 4,
 "nbformat_minor": 2
}
