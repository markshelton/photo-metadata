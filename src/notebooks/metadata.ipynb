{
 "cells": [
  {
   "cell_type": "code",
   "execution_count": 15,
   "metadata": {},
   "outputs": [
    {
     "data": {
      "application/javascript": [
       "IPython.notebook.set_autosave_interval(0)"
      ]
     },
     "metadata": {},
     "output_type": "display_data"
    },
    {
     "name": "stdout",
     "output_type": "stream",
     "text": [
      "Autosave disabled\n"
     ]
    }
   ],
   "source": [
    "%autosave 0\n",
    "%matplotlib inline"
   ]
  },
  {
   "cell_type": "code",
   "execution_count": 16,
   "metadata": {
    "collapsed": true
   },
   "outputs": [],
   "source": [
    "import codecs\n",
    "import pymarc\n",
    "import sqlite3\n",
    "import yaml\n",
    "from collections import defaultdict\n",
    "import random"
   ]
  },
  {
   "cell_type": "code",
   "execution_count": 17,
   "metadata": {
    "collapsed": true
   },
   "outputs": [],
   "source": [
    "INPUT_MARCXML_FILE = \"/src/data/input/metadata/marc21.xml\"\n",
    "MARCXML_PARSER_CONF = \"/src/config/parsing_conf.yaml\"\n",
    "INPUT_SAMPLE_SIZE = 10"
   ]
  },
  {
   "cell_type": "markdown",
   "metadata": {},
   "source": [
    "### Task 1 - Count number of records"
   ]
  },
  {
   "cell_type": "code",
   "execution_count": 18,
   "metadata": {
    "collapsed": true
   },
   "outputs": [],
   "source": [
    "#Done - in /src/input/metadata/marcxml_parsing"
   ]
  },
  {
   "cell_type": "markdown",
   "metadata": {
    "collapsed": true
   },
   "source": [
    "### Task 2 - Tally frequency of tags"
   ]
  },
  {
   "cell_type": "code",
   "execution_count": 19,
   "metadata": {
    "collapsed": true
   },
   "outputs": [],
   "source": [
    "#Done - in /src/input/metadata/marcxml_parsing"
   ]
  },
  {
   "cell_type": "markdown",
   "metadata": {},
   "source": [
    "### Task 3 - Parse marcxml"
   ]
  },
  {
   "cell_type": "code",
   "execution_count": 20,
   "metadata": {
    "collapsed": true
   },
   "outputs": [],
   "source": [
    "marc_records = pymarc.parse_xml_to_array(INPUT_MARCXML_FILE)\n",
    "try: marc_records = random.sample(marc_records, INPUT_SAMPLE_SIZE)\n",
    "except: pass"
   ]
  },
  {
   "cell_type": "markdown",
   "metadata": {},
   "source": [
    "### Task 4 - Map records to dictionary"
   ]
  },
  {
   "cell_type": "code",
   "execution_count": 21,
   "metadata": {},
   "outputs": [],
   "source": [
    "def load_parser_conf(conf_file):\n",
    "    with open(conf_file, \"r\") as stream:\n",
    "        conf = yaml.load(stream)\n",
    "    return conf\n",
    "\n",
    "def fix_uid_mapping(marc_field):\n",
    "    if 'u' in marc_field:\n",
    "        if 'z' in marc_field: \n",
    "            uid = marc_field[\"z\"].split(\":\")[0]\n",
    "            if uid is not None:\n",
    "                marc_field[\"u\"] = uid + \": \"+ marc_field[\"u\"]\n",
    "        else: marc_field.delete_subfield(\"u\")\n",
    "    return marc_field\n",
    "\n",
    "def map_marcxml_record(marc_record, conf):\n",
    "    marc_dict = defaultdict(set)\n",
    "    for entry in conf:\n",
    "        (k, v), = entry.items()\n",
    "        field, sub_field = k.split(\"$\")\n",
    "        for marc_field in marc_record.get_fields(field):\n",
    "            if field == \"856\": marc_field = fix_uid_mapping(marc_field)\n",
    "            marc_subfield = marc_field[sub_field]\n",
    "            if marc_subfield is not None: \n",
    "                marc_dict[v].add(marc_subfield)\n",
    "    return dict(marc_dict)\n",
    "\n",
    "def map_marcxml_records(marc_records, conf_file):\n",
    "    conf = load_parser_conf(conf_file)\n",
    "    marc_records_tf = map(lambda record: map_marcxml_record(record, conf), marc_records)\n",
    "    return list(marc_records_tf)\n",
    "\n",
    "marc_records = map_marcxml_records(marc_records, MARCXML_PARSER_CONF)"
   ]
  },
  {
   "cell_type": "code",
   "execution_count": 33,
   "metadata": {},
   "outputs": [
    {
     "data": {
      "text/plain": [
       "{'collection_id': {'.b34478358'},\n",
       " 'date_created': {'ca. 1925-1929.'},\n",
       " 'language_code': {'eng '},\n",
       " 'location_code': {'u-at-we'},\n",
       " 'location_division': {'Western Australia'},\n",
       " 'location_name': {'Cottesloe Beach (W.A.)',\n",
       "  'Forrest Place (Perth, W.A.)',\n",
       "  'Perth (W.A.)',\n",
       "  'St Georges Terrace (Perth, W.A.)'},\n",
       " 'note_general': {'Title devised by cataloguer.'},\n",
       " 'note_public': {'221711PD: Japanese sailors on the Swan River during a visit by the Japanese Navy in June 1928',\n",
       "  '221712PD: Japanese sailors on the Swan River during a visit by the Japanese Navy in June 1928',\n",
       "  '221713PD: Japanese sailors marching during a visit to Perth in June 1928',\n",
       "  '221714PD: Swimming in the surf at Cottesloe Beach, 1925-1929',\n",
       "  '221715PD: Cottesloe Beach, 1925-1929',\n",
       "  '221716PD: Cottesloe Beach, 1925-1929',\n",
       "  '221717PD: Forrest Place, 1925-1929',\n",
       "  '221718PD: Murray St and Hay St, Perth showing Grand Theatre, Aherns and the Town Hall, 1925-1929',\n",
       "  '221719PD: View over Perth, 1925-1929',\n",
       "  \"221720PD: St George's Terrace, Perth, looking south, 1925-1929\",\n",
       "  \"221721PD: St George's Terrace, Perth looking south, 1925-1929\"},\n",
       " 'note_summary': {'Photographs of Japanese Sailors during a visit of the Japanese Navy to Perth in June 1928; Cottesloe Beach; views of Perth.'},\n",
       " 'note_title': {'Marloo Station collection of negatives, Part 11'},\n",
       " 'note_topical_term': {'Buses',\n",
       "  'Online image.',\n",
       "  'Sailors, Japanese',\n",
       "  'Warships, Japanese'},\n",
       " 'note_url': {'221711PD: http://purl.slwa.wa.gov.au/slwa_b3447835_1',\n",
       "  '221712PD: http://purl.slwa.wa.gov.au/slwa_b3447835_2',\n",
       "  '221713PD: http://purl.slwa.wa.gov.au/slwa_b3447835_3',\n",
       "  '221714PD: http://purl.slwa.wa.gov.au/slwa_b3447835_4',\n",
       "  '221715PD: http://purl.slwa.wa.gov.au/slwa_b3447835_5',\n",
       "  '221716PD: http://purl.slwa.wa.gov.au/slwa_b3447835_6',\n",
       "  '221717PD: http://purl.slwa.wa.gov.au/slwa_b3447835_7',\n",
       "  '221718PD: http://purl.slwa.wa.gov.au/slwa_b3447835_8',\n",
       "  '221719PD: http://purl.slwa.wa.gov.au/slwa_b3447835_9',\n",
       "  '221720PD: http://purl.slwa.wa.gov.au/slwa_b3447835_10',\n",
       "  '221721PD: http://purl.slwa.wa.gov.au/slwa_b3447835_11'},\n",
       " 'physical_details': {'b&w ;'},\n",
       " 'physical_extent': {'11 negatives :'},\n",
       " 'series_title': {'Marloo Station collection of negatives, Part 11 ;'},\n",
       " 'series_volume': {'B2271/195-205.'}}"
      ]
     },
     "execution_count": 33,
     "metadata": {},
     "output_type": "execute_result"
    }
   ],
   "source": [
    "marc_records[9]"
   ]
  },
  {
   "cell_type": "code",
   "execution_count": 12,
   "metadata": {},
   "outputs": [
    {
     "ename": "AttributeError",
     "evalue": "'set' object has no attribute 'items'",
     "output_type": "error",
     "traceback": [
      "\u001b[0;31m---------------------------------------------------------------------------\u001b[0m",
      "\u001b[0;31mAttributeError\u001b[0m                            Traceback (most recent call last)",
      "\u001b[0;32m<ipython-input-12-ecb99d7572b5>\u001b[0m in \u001b[0;36m<module>\u001b[0;34m()\u001b[0m\n\u001b[1;32m      6\u001b[0m     \u001b[0;32mreturn\u001b[0m \u001b[0mdict\u001b[0m\u001b[0;34m(\u001b[0m\u001b[0mflipped\u001b[0m\u001b[0;34m)\u001b[0m\u001b[0;34m\u001b[0m\u001b[0m\n\u001b[1;32m      7\u001b[0m \u001b[0;34m\u001b[0m\u001b[0m\n\u001b[0;32m----> 8\u001b[0;31m \u001b[0mlist\u001b[0m\u001b[0;34m(\u001b[0m\u001b[0mmap\u001b[0m\u001b[0;34m(\u001b[0m\u001b[0;32mlambda\u001b[0m \u001b[0mrecord\u001b[0m\u001b[0;34m:\u001b[0m \u001b[0mreverse_nested_dict\u001b[0m\u001b[0;34m(\u001b[0m\u001b[0mrecord\u001b[0m\u001b[0;34m)\u001b[0m\u001b[0;34m,\u001b[0m \u001b[0mmarc_records\u001b[0m\u001b[0;34m)\u001b[0m\u001b[0;34m)\u001b[0m\u001b[0;34m\u001b[0m\u001b[0m\n\u001b[0m",
      "\u001b[0;32m<ipython-input-12-ecb99d7572b5>\u001b[0m in \u001b[0;36m<lambda>\u001b[0;34m(record)\u001b[0m\n\u001b[1;32m      6\u001b[0m     \u001b[0;32mreturn\u001b[0m \u001b[0mdict\u001b[0m\u001b[0;34m(\u001b[0m\u001b[0mflipped\u001b[0m\u001b[0;34m)\u001b[0m\u001b[0;34m\u001b[0m\u001b[0m\n\u001b[1;32m      7\u001b[0m \u001b[0;34m\u001b[0m\u001b[0m\n\u001b[0;32m----> 8\u001b[0;31m \u001b[0mlist\u001b[0m\u001b[0;34m(\u001b[0m\u001b[0mmap\u001b[0m\u001b[0;34m(\u001b[0m\u001b[0;32mlambda\u001b[0m \u001b[0mrecord\u001b[0m\u001b[0;34m:\u001b[0m \u001b[0mreverse_nested_dict\u001b[0m\u001b[0;34m(\u001b[0m\u001b[0mrecord\u001b[0m\u001b[0;34m)\u001b[0m\u001b[0;34m,\u001b[0m \u001b[0mmarc_records\u001b[0m\u001b[0;34m)\u001b[0m\u001b[0;34m)\u001b[0m\u001b[0;34m\u001b[0m\u001b[0m\n\u001b[0m",
      "\u001b[0;32m<ipython-input-12-ecb99d7572b5>\u001b[0m in \u001b[0;36mreverse_nested_dict\u001b[0;34m(original_dict)\u001b[0m\n\u001b[1;32m      2\u001b[0m     \u001b[0mflipped\u001b[0m \u001b[0;34m=\u001b[0m \u001b[0mdefaultdict\u001b[0m\u001b[0;34m(\u001b[0m\u001b[0mdict\u001b[0m\u001b[0;34m)\u001b[0m\u001b[0;34m\u001b[0m\u001b[0m\n\u001b[1;32m      3\u001b[0m     \u001b[0;32mfor\u001b[0m \u001b[0mkey\u001b[0m\u001b[0;34m,\u001b[0m \u001b[0mval\u001b[0m \u001b[0;32min\u001b[0m \u001b[0moriginal_dict\u001b[0m\u001b[0;34m.\u001b[0m\u001b[0mitems\u001b[0m\u001b[0;34m(\u001b[0m\u001b[0;34m)\u001b[0m\u001b[0;34m:\u001b[0m\u001b[0;34m\u001b[0m\u001b[0m\n\u001b[0;32m----> 4\u001b[0;31m         \u001b[0;32mfor\u001b[0m \u001b[0msubkey\u001b[0m\u001b[0;34m,\u001b[0m \u001b[0msubval\u001b[0m \u001b[0;32min\u001b[0m \u001b[0mval\u001b[0m\u001b[0;34m.\u001b[0m\u001b[0mitems\u001b[0m\u001b[0;34m(\u001b[0m\u001b[0;34m)\u001b[0m\u001b[0;34m:\u001b[0m\u001b[0;34m\u001b[0m\u001b[0m\n\u001b[0m\u001b[1;32m      5\u001b[0m             \u001b[0mflipped\u001b[0m\u001b[0;34m[\u001b[0m\u001b[0msubkey\u001b[0m\u001b[0;34m]\u001b[0m\u001b[0;34m[\u001b[0m\u001b[0mkey\u001b[0m\u001b[0;34m]\u001b[0m \u001b[0;34m=\u001b[0m \u001b[0msubval\u001b[0m\u001b[0;34m\u001b[0m\u001b[0m\n\u001b[1;32m      6\u001b[0m     \u001b[0;32mreturn\u001b[0m \u001b[0mdict\u001b[0m\u001b[0;34m(\u001b[0m\u001b[0mflipped\u001b[0m\u001b[0;34m)\u001b[0m\u001b[0;34m\u001b[0m\u001b[0m\n",
      "\u001b[0;31mAttributeError\u001b[0m: 'set' object has no attribute 'items'"
     ]
    }
   ],
   "source": [
    "def reverse_nested_dict(original_dict):\n",
    "    for note_url in original_dict[\"note_url\"]:\n",
    "        image_id = note_url.split(\"/\")[0]\n",
    "\n",
    "list(map(lambda record: reverse_nested_dict(record), marc_records))"
   ]
  },
  {
   "cell_type": "code",
   "execution_count": null,
   "metadata": {
    "collapsed": true
   },
   "outputs": [],
   "source": []
  }
 ],
 "metadata": {
  "kernelspec": {
   "display_name": "Python 3",
   "language": "python",
   "name": "python3"
  },
  "language_info": {
   "codemirror_mode": {
    "name": "ipython",
    "version": 3
   },
   "file_extension": ".py",
   "mimetype": "text/x-python",
   "name": "python",
   "nbconvert_exporter": "python",
   "pygments_lexer": "ipython3",
   "version": "3.5.2"
  }
 },
 "nbformat": 4,
 "nbformat_minor": 2
}
